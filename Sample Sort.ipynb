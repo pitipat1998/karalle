{
 "cells": [
  {
   "cell_type": "code",
   "execution_count": 1,
   "metadata": {},
   "outputs": [],
   "source": [
    "import numpy as np\n",
    "from itertools import product\n",
    "from collections import defaultdict"
   ]
  },
  {
   "cell_type": "code",
   "execution_count": 4,
   "metadata": {},
   "outputs": [],
   "source": [
    "ths = 5\n",
    "def sample_sort(A, k, p):\n",
    "    if len(A)/k < ths:\n",
    "        return sorted(A)\n",
    "    else:\n",
    "        B = defaultdict(list)\n",
    "        S = np.random.choice(A, size=p*(k-1))\n",
    "        S = np.sort(S)\n",
    "        sx = [np.NINF] + [S[i*k] for i in range(1,p-1)] + [np.inf]\n",
    "#         print(sx)\n",
    "        for a in A:\n",
    "            ax = list(map(lambda ji: sx[ji-1] < a <= sx[ji], range(1,len(sx))))\n",
    "            j = ax.index(True)\n",
    "#             print(a,j,ax)\n",
    "            B[j].append(a)\n",
    "        return np.concatenate(list(sample_sort(B[bi],k, p) for bi in sorted(B.keys()))).ravel()"
   ]
  },
  {
   "cell_type": "code",
   "execution_count": 6,
   "metadata": {
    "scrolled": false
   },
   "outputs": [
    {
     "name": "stdout",
     "output_type": "stream",
     "text": [
      "[947.78955791 525.30506101 837.16743349 ... 256.05121024 568.91378276\n",
      " 432.08641728]\n",
      "[0.00000000e+00 2.00040008e-01 4.00080016e-01 ... 9.99599920e+02\n",
      " 9.99799960e+02 1.00000000e+03]\n"
     ]
    }
   ],
   "source": [
    "k = 5\n",
    "p = 3\n",
    "A = np.linspace(0, 1000, 5000)\n",
    "np.random.shuffle(A)\n",
    "print(A)\n",
    "sort_A = sample_sort(A, k, p)\n",
    "print(sort_A)"
   ]
  },
  {
   "cell_type": "code",
   "execution_count": null,
   "metadata": {},
   "outputs": [],
   "source": []
  }
 ],
 "metadata": {
  "kernelspec": {
   "display_name": "Python 3",
   "language": "python",
   "name": "python3"
  },
  "language_info": {
   "codemirror_mode": {
    "name": "ipython",
    "version": 3
   },
   "file_extension": ".py",
   "mimetype": "text/x-python",
   "name": "python",
   "nbconvert_exporter": "python",
   "pygments_lexer": "ipython3",
   "version": "3.7.4"
  }
 },
 "nbformat": 4,
 "nbformat_minor": 4
}
