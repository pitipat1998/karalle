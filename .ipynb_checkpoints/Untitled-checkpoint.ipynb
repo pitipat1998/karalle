{
 "cells": [
  {
   "cell_type": "code",
   "execution_count": 3,
   "metadata": {},
   "outputs": [],
   "source": [
    "import numpy as np\n",
    "np.savetxt('data_small.csv', np.random.randint(0, 100, 100), delimiter=\",\", fmt=\"%d\")"
   ]
  },
  {
   "cell_type": "code",
   "execution_count": 5,
   "metadata": {},
   "outputs": [
    {
     "data": {
      "text/plain": [
       "array([50, 38, 91, 44, 36, 18, 29, 14, 75, 32,  9, 89, 45, 65, 92, 26, 42,\n",
       "       22, 47, 36, 54, 69, 11, 89, 74, 34, 97, 86, 74, 17, 97,  4, 15, 24,\n",
       "       72, 42, 92, 23, 34, 16,  1, 21, 54, 60, 26, 31, 32, 51, 69, 30, 83,\n",
       "       40, 40,  9, 13, 84, 22,  2, 32, 82, 14, 60, 87,  4,  1, 81,  9,  9,\n",
       "       64,  6, 49, 51, 13, 59, 81, 60, 49, 27, 31, 48, 81, 75, 70, 15,  6,\n",
       "       14, 63, 52, 51, 20, 69, 73,  1, 61, 70, 31, 28,  1,  0, 20])"
      ]
     },
     "execution_count": 5,
     "metadata": {},
     "output_type": "execute_result"
    }
   ],
   "source": [
    "np.random.randint(0, 100, 100)"
   ]
  },
  {
   "cell_type": "code",
   "execution_count": null,
   "metadata": {},
   "outputs": [],
   "source": []
  }
 ],
 "metadata": {
  "kernelspec": {
   "display_name": "Python 3",
   "language": "python",
   "name": "python3"
  },
  "language_info": {
   "codemirror_mode": {
    "name": "ipython",
    "version": 3
   },
   "file_extension": ".py",
   "mimetype": "text/x-python",
   "name": "python",
   "nbconvert_exporter": "python",
   "pygments_lexer": "ipython3",
   "version": "3.7.4"
  }
 },
 "nbformat": 4,
 "nbformat_minor": 4
}
